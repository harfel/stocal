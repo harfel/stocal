{
 "cells": [
  {
   "cell_type": "code",
   "execution_count": null,
   "metadata": {},
   "outputs": [],
   "source": [
    "from ipywidgets import Button, Layout, jslink, IntText, IntSlider\n",
    "import bqplot as bq\n",
    "import numpy as np"
   ]
  },
  {
   "cell_type": "code",
   "execution_count": null,
   "metadata": {},
   "outputs": [],
   "source": [
    "size = 100\n",
    "np.random.seed(0)\n",
    "\n",
    "x_data = range(size)\n",
    "y_data = np.random.randn(size)\n",
    "y_data_2 = np.random.randn(size)\n",
    "y_data_3 = np.cumsum(np.random.randn(size) * 100.)\n",
    "\n",
    "x_ord = bq.OrdinalScale()\n",
    "y_sc = bq.LinearScale()\n",
    "\n",
    "bar = bq.Bars(x=np.arange(10), y=np.random.rand(10), scales={'x': x_ord, 'y': y_sc})\n",
    "ax_x = bq.Axis(scale=x_ord)\n",
    "ax_y = bq.Axis(scale=y_sc, tick_format='0.2f', orientation='vertical')\n",
    "\n",
    "fig = bq.Figure(marks=[bar], axes=[ax_x, ax_y], padding_x=0.025, padding_y=0.025,\n",
    "                layout=Layout(width='auto', height='90%'))"
   ]
  },
  {
   "cell_type": "code",
   "execution_count": null,
   "metadata": {},
   "outputs": [],
   "source": [
    "from ipywidgets import FloatSlider\n",
    "from ipywidgets import TwoByTwoLayout\n",
    "\n",
    "max_slider = FloatSlider(min=0, max=10, default_value=2, description=\"Max: \",\n",
    "                         layout=Layout(width='auto', height='auto'))\n",
    "min_slider = FloatSlider(min=-1, max=10, description=\"Min: \",\n",
    "                         layout=Layout(width='auto', height='auto'))\n",
    "app = TwoByTwoLayout(top_left=min_slider,\n",
    "                     bottom_left=max_slider,\n",
    "                     bottom_right=fig,\n",
    "                     align_items=\"center\",\n",
    "                     height='700px')\n",
    "\n",
    "jslink((y_sc, 'max'), (max_slider, 'value'))\n",
    "jslink((y_sc, 'min'), (min_slider, 'value'))\n",
    "jslink((min_slider, 'max'), (max_slider, 'value'))\n",
    "jslink((max_slider, 'min'), (min_slider, 'value'))\n",
    "\n",
    "max_slider.value = 1.5\n",
    "app"
   ]
  },
  {
   "cell_type": "code",
   "execution_count": null,
   "metadata": {},
   "outputs": [],
   "source": []
  }
 ],
 "metadata": {
  "kernelspec": {
   "display_name": "Python 3",
   "language": "python",
   "name": "python3"
  },
  "language_info": {
   "codemirror_mode": {
    "name": "ipython",
    "version": 3
   },
   "file_extension": ".py",
   "mimetype": "text/x-python",
   "name": "python",
   "nbconvert_exporter": "python",
   "pygments_lexer": "ipython3",
   "version": "3.7.5"
  }
 },
 "nbformat": 4,
 "nbformat_minor": 2
}
